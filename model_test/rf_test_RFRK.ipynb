{
 "cells": [
  {
   "cell_type": "code",
   "execution_count": 3,
   "id": "7e1bab1c-7c80-4a3a-a07c-297c6aacd1a8",
   "metadata": {},
   "outputs": [],
   "source": [
    "import pandas as pd\n",
    "import geopandas as gpd\n",
    "import numpy as np\n",
    "from sklearn.ensemble import RandomForestRegressor\n",
    "import estimators as est"
   ]
  },
  {
   "cell_type": "markdown",
   "id": "fe0186a6-1901-46e8-bcb9-267ec63b573b",
   "metadata": {},
   "source": [
    "##### Data preprocessing"
   ]
  },
  {
   "cell_type": "code",
   "execution_count": 4,
   "id": "8e96ac34-34c3-46ce-b4a1-17f5c2ea2666",
   "metadata": {},
   "outputs": [],
   "source": [
    "df = gpd.read_file(\"processed_sample_data.gpkg\", driver = \"gpkg\")\n",
    "\n",
    "df_copy = df.copy()\n",
    "\n",
    "# Drop NA values from dataset\n",
    "df_copy.dropna(inplace = True)\n",
    "df_copy.reset_index(drop=True, inplace=True)\n",
    "\n",
    "# Convert landuse_type into dummies for RF\n",
    "df_copy = pd.get_dummies(df_copy, columns = ['landuse_type'])"
   ]
  },
  {
   "cell_type": "markdown",
   "id": "4208ce1d-b926-49b8-85b9-693534263079",
   "metadata": {},
   "source": [
    "##### Separate variables into X and Y"
   ]
  },
  {
   "cell_type": "code",
   "execution_count": 5,
   "id": "6f1f7462-7394-47b1-8677-32d32892b3d1",
   "metadata": {},
   "outputs": [],
   "source": [
    "# Target variable (Y) is SOC; the remaining variables are predictor variables (X)\n",
    "y = df_copy.loc[:, 'soc']\n",
    "X = df_copy.drop(['soc'], axis = 1)"
   ]
  },
  {
   "cell_type": "markdown",
   "id": "da749b41-7ffb-4ab6-a247-da75d6e605b2",
   "metadata": {},
   "source": [
    "#### 5-fold cross validation method"
   ]
  },
  {
   "cell_type": "code",
   "execution_count": 6,
   "id": "d7961bfd-ea81-47cf-9f0e-333a2f5df787",
   "metadata": {},
   "outputs": [],
   "source": [
    "# 5-fold cross validation\n",
    "from sklearn.model_selection import KFold\n",
    "kf = KFold(n_splits = 5, shuffle = True, random_state = 1)"
   ]
  },
  {
   "cell_type": "markdown",
   "id": "ddb64134-827a-4a5b-9bb9-0a4a5dee6db1",
   "metadata": {},
   "source": [
    "#### Build Random Forest with Regression Kriging"
   ]
  },
  {
   "cell_type": "code",
   "execution_count": 7,
   "id": "b16ebef8-5ec7-43b8-bcaa-8d81a3cfedaf",
   "metadata": {},
   "outputs": [],
   "source": [
    "# Use optimal hypermarameters found by Kmoch et al. 2021\n",
    "rf_ok = est.OrdinaryKrigingRF()"
   ]
  },
  {
   "cell_type": "markdown",
   "id": "eb688e5b-fab6-4717-9ee1-8cfd490834f2",
   "metadata": {},
   "source": [
    "#### Check the performance of Random Forest With KNN"
   ]
  },
  {
   "cell_type": "code",
   "execution_count": 8,
   "id": "adcb15d1-93b6-4946-a91e-53ddcdf1c724",
   "metadata": {},
   "outputs": [],
   "source": [
    "from sklearn.model_selection import cross_val_score\n",
    "from sklearn.metrics import mean_absolute_error, r2_score, make_scorer\n",
    "\n",
    "# Combine scross_val_score and KFold to evaluate model 5-fold CV\n",
    "\n",
    "# Root mean squared error (RMSE)\n",
    "rf_rmse_scores = -cross_val_score(rf_ok, X, y, cv = kf, scoring = 'neg_root_mean_squared_error')\n",
    "mean_rf_rmse = rf_rmse_scores.mean()\n",
    "\n",
    "# Mean absolute eror (MAE)\n",
    "rf_mae_scores = -cross_val_score(rf_ok, X, y, cv = kf, scoring = 'neg_mean_absolute_error')\n",
    "mean_rf_mae = rf_mae_scores.mean()\n",
    "\n",
    "# R-sqaured (R2)\n",
    "def r2_scorer(y_true, y_pred):\n",
    "    return r2_score(y_true, y_pred)\n",
    "    \n",
    "rf_r2_scorers = cross_val_score(rf_ok, X, y, cv = kf, scoring = make_scorer(r2_scorer))\n",
    "mean_rf_r2 = rf_r2_scorers.mean()"
   ]
  },
  {
   "cell_type": "code",
   "execution_count": 9,
   "id": "31544a27-6aad-42c8-8ed5-a062f7c8a520",
   "metadata": {},
   "outputs": [
    {
     "data": {
      "text/html": [
       "<div>\n",
       "<style scoped>\n",
       "    .dataframe tbody tr th:only-of-type {\n",
       "        vertical-align: middle;\n",
       "    }\n",
       "\n",
       "    .dataframe tbody tr th {\n",
       "        vertical-align: top;\n",
       "    }\n",
       "\n",
       "    .dataframe thead th {\n",
       "        text-align: right;\n",
       "    }\n",
       "</style>\n",
       "<table border=\"1\" class=\"dataframe\">\n",
       "  <thead>\n",
       "    <tr style=\"text-align: right;\">\n",
       "      <th></th>\n",
       "      <th>Metrics</th>\n",
       "      <th>Score</th>\n",
       "    </tr>\n",
       "  </thead>\n",
       "  <tbody>\n",
       "    <tr>\n",
       "      <th>0</th>\n",
       "      <td>Mean R2</td>\n",
       "      <td>0.613528</td>\n",
       "    </tr>\n",
       "    <tr>\n",
       "      <th>1</th>\n",
       "      <td>Mean RMSE</td>\n",
       "      <td>7.440005</td>\n",
       "    </tr>\n",
       "    <tr>\n",
       "      <th>2</th>\n",
       "      <td>Mean MAE</td>\n",
       "      <td>4.370407</td>\n",
       "    </tr>\n",
       "  </tbody>\n",
       "</table>\n",
       "</div>"
      ],
      "text/plain": [
       "     Metrics     Score\n",
       "0    Mean R2  0.613528\n",
       "1  Mean RMSE  7.440005\n",
       "2   Mean MAE  4.370407"
      ]
     },
     "execution_count": 9,
     "metadata": {},
     "output_type": "execute_result"
    }
   ],
   "source": [
    "# Create Table for the results\n",
    "rf_performance_df = pd.DataFrame([[\"Mean R2\", mean_rf_r2], [\"Mean RMSE\", mean_rf_rmse], [\"Mean MAE\", mean_rf_mae]], columns = ['Metrics', 'Score'])\n",
    "\n",
    "rf_performance_df"
   ]
  }
 ],
 "metadata": {
  "kernelspec": {
   "display_name": "geopython2023",
   "language": "python",
   "name": "geopython2023"
  },
  "language_info": {
   "codemirror_mode": {
    "name": "ipython",
    "version": 3
   },
   "file_extension": ".py",
   "mimetype": "text/x-python",
   "name": "python",
   "nbconvert_exporter": "python",
   "pygments_lexer": "ipython3",
   "version": "3.10.14"
  }
 },
 "nbformat": 4,
 "nbformat_minor": 5
}
