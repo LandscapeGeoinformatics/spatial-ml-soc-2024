{
 "cells": [
  {
   "cell_type": "code",
   "execution_count": 1,
   "id": "7e1bab1c-7c80-4a3a-a07c-297c6aacd1a8",
   "metadata": {},
   "outputs": [],
   "source": [
    "import pandas as pd\n",
    "import geopandas as gpd\n",
    "import numpy as np\n",
    "from sklearn.ensemble import RandomForestRegressor\n",
    "import estimators as est"
   ]
  },
  {
   "cell_type": "markdown",
   "id": "fe0186a6-1901-46e8-bcb9-267ec63b573b",
   "metadata": {},
   "source": [
    "##### Data preprocessing"
   ]
  },
  {
   "cell_type": "code",
   "execution_count": 2,
   "id": "8e96ac34-34c3-46ce-b4a1-17f5c2ea2666",
   "metadata": {},
   "outputs": [],
   "source": [
    "df = gpd.read_file(\"processed_sample_data.gpkg\", driver = \"gpkg\")\n",
    "\n",
    "df_copy = df.copy()\n",
    "\n",
    "# Drop NA values from dataset\n",
    "df_copy.dropna(inplace = True)\n",
    "df_copy.reset_index(drop=True, inplace=True)\n",
    "\n",
    "# Convert landuse_type into dummies for RF\n",
    "df_copy = pd.get_dummies(df_copy, columns = ['landuse_type'])"
   ]
  },
  {
   "cell_type": "markdown",
   "id": "4208ce1d-b926-49b8-85b9-693534263079",
   "metadata": {},
   "source": [
    "##### Separate variables into X and Y"
   ]
  },
  {
   "cell_type": "code",
   "execution_count": 3,
   "id": "6f1f7462-7394-47b1-8677-32d32892b3d1",
   "metadata": {},
   "outputs": [],
   "source": [
    "# Target variable (Y) is SOC; the remaining variables are predictor variables (X)\n",
    "y = df_copy.loc[:, 'soc']\n",
    "X = df_copy.drop(['soc'], axis = 1)"
   ]
  },
  {
   "cell_type": "markdown",
   "id": "da749b41-7ffb-4ab6-a247-da75d6e605b2",
   "metadata": {},
   "source": [
    "#### Split sample data into training and testing datasets with noraml cross validation method"
   ]
  },
  {
   "cell_type": "code",
   "execution_count": 4,
   "id": "a463ff12-2553-422d-8076-d7338c52fd79",
   "metadata": {},
   "outputs": [],
   "source": [
    "# 5-fold cross validation\n",
    "from sklearn.model_selection import KFold\n",
    "kf = KFold(n_splits = 5, shuffle = True, random_state = 1)"
   ]
  },
  {
   "cell_type": "markdown",
   "id": "a50fd7ce-df53-4523-b2f4-e64951bae258",
   "metadata": {},
   "source": [
    "#### Build Random Forest with Buffer Distance"
   ]
  },
  {
   "cell_type": "code",
   "execution_count": 5,
   "id": "2802f079-c7fc-4536-98da-428e82edf373",
   "metadata": {},
   "outputs": [],
   "source": [
    "# Use optimal hypermarameters found by Kmoch et al. 2021\n",
    "rf_bd = est.BufferDistanceRF()"
   ]
  },
  {
   "cell_type": "markdown",
   "id": "10ad5f21-62a8-4de4-ba2d-216de14f73f0",
   "metadata": {},
   "source": [
    "#### Check the performance of Random Forest With KNN"
   ]
  },
  {
   "cell_type": "code",
   "execution_count": 6,
   "id": "c0573ce6-e44b-47df-ae6b-4f810777d769",
   "metadata": {},
   "outputs": [],
   "source": [
    "from sklearn.model_selection import cross_val_score\n",
    "from sklearn.metrics import mean_absolute_error, r2_score, make_scorer\n",
    "\n",
    "# Combine scross_val_score and KFold to evaluate model 5-fold CV\n",
    "\n",
    "# Root mean squared error (RMSE)\n",
    "rf_rmse_scores = -cross_val_score(rf_bd, X, y, cv = kf, scoring = 'neg_root_mean_squared_error')\n",
    "mean_rf_rmse = rf_rmse_scores.mean()\n",
    "\n",
    "# Mean absolute eror (MAE)\n",
    "rf_mae_scores = -cross_val_score(rf_bd, X, y, cv = kf, scoring = 'neg_mean_absolute_error')\n",
    "mean_rf_mae = rf_mae_scores.mean()\n",
    "\n",
    "# R-sqaured (R2)\n",
    "def r2_scorer(y_true, y_pred):\n",
    "    return r2_score(y_true, y_pred)\n",
    "    \n",
    "rf_r2_scorers = cross_val_score(rf_bd, X, y, cv = kf, scoring = make_scorer(r2_scorer))\n",
    "mean_rf_r2 = rf_r2_scorers.mean()"
   ]
  },
  {
   "cell_type": "code",
   "execution_count": 7,
   "id": "861f603b-68a6-4844-822e-a9bf9d1a6c58",
   "metadata": {},
   "outputs": [
    {
     "data": {
      "text/html": [
       "<div>\n",
       "<style scoped>\n",
       "    .dataframe tbody tr th:only-of-type {\n",
       "        vertical-align: middle;\n",
       "    }\n",
       "\n",
       "    .dataframe tbody tr th {\n",
       "        vertical-align: top;\n",
       "    }\n",
       "\n",
       "    .dataframe thead th {\n",
       "        text-align: right;\n",
       "    }\n",
       "</style>\n",
       "<table border=\"1\" class=\"dataframe\">\n",
       "  <thead>\n",
       "    <tr style=\"text-align: right;\">\n",
       "      <th></th>\n",
       "      <th>Metrics</th>\n",
       "      <th>Score</th>\n",
       "    </tr>\n",
       "  </thead>\n",
       "  <tbody>\n",
       "    <tr>\n",
       "      <th>0</th>\n",
       "      <td>Mean R2</td>\n",
       "      <td>0.618988</td>\n",
       "    </tr>\n",
       "    <tr>\n",
       "      <th>1</th>\n",
       "      <td>Mean RMSE</td>\n",
       "      <td>7.383974</td>\n",
       "    </tr>\n",
       "    <tr>\n",
       "      <th>2</th>\n",
       "      <td>Mean MAE</td>\n",
       "      <td>4.272198</td>\n",
       "    </tr>\n",
       "  </tbody>\n",
       "</table>\n",
       "</div>"
      ],
      "text/plain": [
       "     Metrics     Score\n",
       "0    Mean R2  0.618988\n",
       "1  Mean RMSE  7.383974\n",
       "2   Mean MAE  4.272198"
      ]
     },
     "execution_count": 7,
     "metadata": {},
     "output_type": "execute_result"
    }
   ],
   "source": [
    "# Create Table for the results\n",
    "rf_performance_df = pd.DataFrame([[\"Mean R2\", mean_rf_r2], [\"Mean RMSE\", mean_rf_rmse], [\"Mean MAE\", mean_rf_mae]], columns = ['Metrics', 'Score'])\n",
    "\n",
    "rf_performance_df"
   ]
  }
 ],
 "metadata": {
  "kernelspec": {
   "display_name": "geopython2023",
   "language": "python",
   "name": "geopython2023"
  },
  "language_info": {
   "codemirror_mode": {
    "name": "ipython",
    "version": 3
   },
   "file_extension": ".py",
   "mimetype": "text/x-python",
   "name": "python",
   "nbconvert_exporter": "python",
   "pygments_lexer": "ipython3",
   "version": "3.10.14"
  }
 },
 "nbformat": 4,
 "nbformat_minor": 5
}
