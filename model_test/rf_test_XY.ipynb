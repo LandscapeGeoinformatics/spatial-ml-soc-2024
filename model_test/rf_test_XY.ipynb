{
 "cells": [
  {
   "cell_type": "code",
   "execution_count": 1,
   "id": "7e1bab1c-7c80-4a3a-a07c-297c6aacd1a8",
   "metadata": {},
   "outputs": [],
   "source": [
    "import pandas as pd\n",
    "import geopandas as gpd\n",
    "import numpy as np\n",
    "from sklearn.ensemble import RandomForestRegressor\n",
    "from sklearn.model_selection import train_test_split"
   ]
  },
  {
   "cell_type": "markdown",
   "id": "fe0186a6-1901-46e8-bcb9-267ec63b573b",
   "metadata": {},
   "source": [
    "##### Data preprocessing"
   ]
  },
  {
   "cell_type": "code",
   "execution_count": 2,
   "id": "8e96ac34-34c3-46ce-b4a1-17f5c2ea2666",
   "metadata": {},
   "outputs": [],
   "source": [
    "df = gpd.read_file(\"processed_sample_data.gpkg\", driver = \"gpkg\")\n",
    "\n",
    "df_copy = df.copy()\n",
    "\n",
    "# Drop NA values from dataset\n",
    "df_copy.dropna(inplace = True)\n",
    "df_copy.reset_index(drop=True, inplace=True)\n",
    "\n",
    "# Convert landuse_type into dummies for RF\n",
    "df_copy = pd.get_dummies(df_copy, columns = ['landuse_type'])"
   ]
  },
  {
   "cell_type": "markdown",
   "id": "31820bec-7f5a-4019-b9d5-fc925aba773d",
   "metadata": {},
   "source": [
    "##### Obtain XY Coordinates"
   ]
  },
  {
   "cell_type": "code",
   "execution_count": 3,
   "id": "dd252814-578e-418d-a99b-9612beb3bfe6",
   "metadata": {},
   "outputs": [],
   "source": [
    "df_copy['x'] = df_copy['geometry'].y\n",
    "df_copy['y'] = df_copy['geometry'].x"
   ]
  },
  {
   "cell_type": "markdown",
   "id": "4208ce1d-b926-49b8-85b9-693534263079",
   "metadata": {},
   "source": [
    "##### Separate variables into X and Y"
   ]
  },
  {
   "cell_type": "code",
   "execution_count": 4,
   "id": "6f1f7462-7394-47b1-8677-32d32892b3d1",
   "metadata": {},
   "outputs": [],
   "source": [
    "# Target variable (Y) is SOC; the remaining variables are predictor variables (X)\n",
    "# For X, exclude geometry information for baseline model\n",
    "y = df_copy.loc[:, 'soc']\n",
    "X = df_copy.drop(['soc', 'geometry'], axis = 1)"
   ]
  },
  {
   "cell_type": "markdown",
   "id": "da749b41-7ffb-4ab6-a247-da75d6e605b2",
   "metadata": {},
   "source": [
    "#### Split sample data into training and testing datasets with noraml cross validation method"
   ]
  },
  {
   "cell_type": "code",
   "execution_count": 5,
   "id": "a463ff12-2553-422d-8076-d7338c52fd79",
   "metadata": {},
   "outputs": [],
   "source": [
    "# 5-fold cross validation\n",
    "from sklearn.model_selection import KFold\n",
    "kf = KFold(n_splits = 5, shuffle = True, random_state = 1)"
   ]
  },
  {
   "cell_type": "markdown",
   "id": "727aae3b-fe16-43bb-981f-0bbb89a0f2b3",
   "metadata": {},
   "source": [
    "#### Build Random Forest "
   ]
  },
  {
   "cell_type": "code",
   "execution_count": 6,
   "id": "9198e9d0-a14b-4fcb-8b27-59f95b34a953",
   "metadata": {},
   "outputs": [],
   "source": [
    "# Use optimal hypermarameters found by Kmoch et al. 2021\n",
    "rf = RandomForestRegressor(n_estimators = 766, max_features = 1.0, max_depth = 20,\n",
    "                           min_samples_split = 2, min_samples_leaf = 4, bootstrap = True, random_state = 1)"
   ]
  },
  {
   "cell_type": "markdown",
   "id": "4590497f-7b20-449f-8394-3ffafd3f4658",
   "metadata": {},
   "source": [
    "#### Check the performance of Random Forest "
   ]
  },
  {
   "cell_type": "code",
   "execution_count": 7,
   "id": "096588a6-a0c4-4b40-a4c2-b5f396067ef1",
   "metadata": {},
   "outputs": [],
   "source": [
    "from sklearn.model_selection import cross_val_score\n",
    "from sklearn.metrics import mean_absolute_error, r2_score, make_scorer\n",
    "\n",
    "# Combine scross_val_score and KFold to evaluate model 5-fold CV\n",
    "rf.fit(X, y)\n",
    "# Root mean squared error (RMSE)\n",
    "rf_rmse_scores = -cross_val_score(rf, X, y, cv = kf, scoring = 'neg_root_mean_squared_error')\n",
    "mean_rf_rmse = rf_rmse_scores.mean()\n",
    "\n",
    "# Mean absolute eror (MAE)\n",
    "rf_mae_scores = -cross_val_score(rf, X, y, cv = kf, scoring = 'neg_mean_absolute_error')\n",
    "mean_rf_mae = rf_mae_scores.mean()\n",
    "\n",
    "# R-sqaured (R2)\n",
    "def r2_scorer(y_true, y_pred):\n",
    "    return r2_score(y_true, y_pred)\n",
    "    \n",
    "rf_r2_scorers = cross_val_score(rf, X, y, cv = kf, scoring = make_scorer(r2_scorer))\n",
    "mean_rf_r2 = rf_r2_scorers.mean()"
   ]
  },
  {
   "cell_type": "code",
   "execution_count": 8,
   "id": "6639d5e3-d800-449b-addb-611e85aeeb26",
   "metadata": {},
   "outputs": [
    {
     "data": {
      "text/html": [
       "<div>\n",
       "<style scoped>\n",
       "    .dataframe tbody tr th:only-of-type {\n",
       "        vertical-align: middle;\n",
       "    }\n",
       "\n",
       "    .dataframe tbody tr th {\n",
       "        vertical-align: top;\n",
       "    }\n",
       "\n",
       "    .dataframe thead th {\n",
       "        text-align: right;\n",
       "    }\n",
       "</style>\n",
       "<table border=\"1\" class=\"dataframe\">\n",
       "  <thead>\n",
       "    <tr style=\"text-align: right;\">\n",
       "      <th></th>\n",
       "      <th>Metrics</th>\n",
       "      <th>Score</th>\n",
       "    </tr>\n",
       "  </thead>\n",
       "  <tbody>\n",
       "    <tr>\n",
       "      <th>0</th>\n",
       "      <td>Mean R2</td>\n",
       "      <td>0.615712</td>\n",
       "    </tr>\n",
       "    <tr>\n",
       "      <th>1</th>\n",
       "      <td>Mean RMSE</td>\n",
       "      <td>7.417292</td>\n",
       "    </tr>\n",
       "    <tr>\n",
       "      <th>2</th>\n",
       "      <td>Mean MAE</td>\n",
       "      <td>4.283533</td>\n",
       "    </tr>\n",
       "  </tbody>\n",
       "</table>\n",
       "</div>"
      ],
      "text/plain": [
       "     Metrics     Score\n",
       "0    Mean R2  0.615712\n",
       "1  Mean RMSE  7.417292\n",
       "2   Mean MAE  4.283533"
      ]
     },
     "execution_count": 8,
     "metadata": {},
     "output_type": "execute_result"
    }
   ],
   "source": [
    "# Create Table for the results\n",
    "rf_performance_df = pd.DataFrame([[\"Mean R2\", mean_rf_r2], [\"Mean RMSE\", mean_rf_rmse], [\"Mean MAE\", mean_rf_mae]], columns = ['Metrics', 'Score'])\n",
    "\n",
    "rf_performance_df"
   ]
  },
  {
   "cell_type": "code",
   "execution_count": null,
   "id": "c818c696-eac6-4143-a8b6-a619b37d9a2f",
   "metadata": {},
   "outputs": [],
   "source": []
  }
 ],
 "metadata": {
  "kernelspec": {
   "display_name": "geopython2023",
   "language": "python",
   "name": "geopython2023"
  },
  "language_info": {
   "codemirror_mode": {
    "name": "ipython",
    "version": 3
   },
   "file_extension": ".py",
   "mimetype": "text/x-python",
   "name": "python",
   "nbconvert_exporter": "python",
   "pygments_lexer": "ipython3",
   "version": "3.10.14"
  }
 },
 "nbformat": 4,
 "nbformat_minor": 5
}
