{
 "cells": [
  {
   "cell_type": "code",
   "execution_count": 1,
   "id": "7e1bab1c-7c80-4a3a-a07c-297c6aacd1a8",
   "metadata": {},
   "outputs": [],
   "source": [
    "import pandas as pd\n",
    "import geopandas as gpd\n",
    "import numpy as np\n",
    "from sklearn.ensemble import RandomForestRegressor\n",
    "import estimators as est"
   ]
  },
  {
   "cell_type": "markdown",
   "id": "fe0186a6-1901-46e8-bcb9-267ec63b573b",
   "metadata": {},
   "source": [
    "##### Data preprocessing"
   ]
  },
  {
   "cell_type": "code",
   "execution_count": 2,
   "id": "8e96ac34-34c3-46ce-b4a1-17f5c2ea2666",
   "metadata": {},
   "outputs": [],
   "source": [
    "df = gpd.read_file(\"processed_sample_data.gpkg\", driver = \"gpkg\")\n",
    "\n",
    "df_copy = df.copy()\n",
    "\n",
    "# Drop NA values from dataset\n",
    "df_copy.dropna(inplace = True)\n",
    "df_copy.reset_index(drop=True, inplace=True)\n",
    "\n",
    "# Convert landuse_type into dummies for RF\n",
    "df_copy = pd.get_dummies(df_copy, columns = ['landuse_type'])"
   ]
  },
  {
   "cell_type": "markdown",
   "id": "4208ce1d-b926-49b8-85b9-693534263079",
   "metadata": {},
   "source": [
    "##### Separate variables into X and Y"
   ]
  },
  {
   "cell_type": "code",
   "execution_count": 3,
   "id": "6f1f7462-7394-47b1-8677-32d32892b3d1",
   "metadata": {},
   "outputs": [],
   "source": [
    "# Target variable (Y) is SOC; the remaining variables are predictor variables (X)\n",
    "# For X, exclude geometry information for baseline model\n",
    "y = df_copy.loc[:, 'soc']\n",
    "X = df_copy.drop(['soc'], axis = 1)"
   ]
  },
  {
   "cell_type": "markdown",
   "id": "3c3f5de7-d1d7-4c2b-b7c1-ca557c49a7bf",
   "metadata": {},
   "source": [
    "#### Split sample data into training and testing datasets with noraml cross validation method"
   ]
  },
  {
   "cell_type": "code",
   "execution_count": 4,
   "id": "32b57fe6-3ed6-463e-b9fc-ce9ef783fc65",
   "metadata": {},
   "outputs": [],
   "source": [
    "# 5-fold cross validation\n",
    "from sklearn.model_selection import KFold\n",
    "kf = KFold(n_splits = 5, shuffle = True, random_state = 1)"
   ]
  },
  {
   "cell_type": "markdown",
   "id": "5398a52d-4e21-4b2a-969e-4427c8b3e897",
   "metadata": {},
   "source": [
    "#### Build Random Forest With KNN"
   ]
  },
  {
   "cell_type": "code",
   "execution_count": 5,
   "id": "c5327b63-d2ea-4e73-9a9b-ac5e7e7b1c05",
   "metadata": {},
   "outputs": [],
   "source": [
    "# Use optimal hypermarameters found by Kmoch et al. 2021\n",
    "rf_knn = est.KNearestNeighborRF()"
   ]
  },
  {
   "cell_type": "markdown",
   "id": "bec4c4e4-40df-4250-8dae-a02bf3d11c8c",
   "metadata": {},
   "source": [
    "#### Check the performance of Random Forest With KNN"
   ]
  },
  {
   "cell_type": "code",
   "execution_count": 6,
   "id": "6cb4217f-0fbb-471d-a4ce-5aa239376d60",
   "metadata": {},
   "outputs": [
    {
     "name": "stderr",
     "output_type": "stream",
     "text": [
      "C:\\Users\\pcadmin\\micromamba\\envs\\geopython2023\\lib\\site-packages\\sklearn\\base.py:432: UserWarning: X has feature names, but RandomForestRegressor was fitted without feature names\n",
      "  warnings.warn(\n",
      "C:\\Users\\pcadmin\\micromamba\\envs\\geopython2023\\lib\\site-packages\\sklearn\\base.py:432: UserWarning: X has feature names, but RandomForestRegressor was fitted without feature names\n",
      "  warnings.warn(\n",
      "C:\\Users\\pcadmin\\micromamba\\envs\\geopython2023\\lib\\site-packages\\sklearn\\base.py:432: UserWarning: X has feature names, but RandomForestRegressor was fitted without feature names\n",
      "  warnings.warn(\n",
      "C:\\Users\\pcadmin\\micromamba\\envs\\geopython2023\\lib\\site-packages\\sklearn\\base.py:432: UserWarning: X has feature names, but RandomForestRegressor was fitted without feature names\n",
      "  warnings.warn(\n",
      "C:\\Users\\pcadmin\\micromamba\\envs\\geopython2023\\lib\\site-packages\\sklearn\\base.py:432: UserWarning: X has feature names, but RandomForestRegressor was fitted without feature names\n",
      "  warnings.warn(\n",
      "C:\\Users\\pcadmin\\micromamba\\envs\\geopython2023\\lib\\site-packages\\sklearn\\base.py:432: UserWarning: X has feature names, but RandomForestRegressor was fitted without feature names\n",
      "  warnings.warn(\n",
      "C:\\Users\\pcadmin\\micromamba\\envs\\geopython2023\\lib\\site-packages\\sklearn\\base.py:432: UserWarning: X has feature names, but RandomForestRegressor was fitted without feature names\n",
      "  warnings.warn(\n",
      "C:\\Users\\pcadmin\\micromamba\\envs\\geopython2023\\lib\\site-packages\\sklearn\\base.py:432: UserWarning: X has feature names, but RandomForestRegressor was fitted without feature names\n",
      "  warnings.warn(\n",
      "C:\\Users\\pcadmin\\micromamba\\envs\\geopython2023\\lib\\site-packages\\sklearn\\base.py:432: UserWarning: X has feature names, but RandomForestRegressor was fitted without feature names\n",
      "  warnings.warn(\n",
      "C:\\Users\\pcadmin\\micromamba\\envs\\geopython2023\\lib\\site-packages\\sklearn\\base.py:432: UserWarning: X has feature names, but RandomForestRegressor was fitted without feature names\n",
      "  warnings.warn(\n",
      "C:\\Users\\pcadmin\\micromamba\\envs\\geopython2023\\lib\\site-packages\\sklearn\\base.py:432: UserWarning: X has feature names, but RandomForestRegressor was fitted without feature names\n",
      "  warnings.warn(\n",
      "C:\\Users\\pcadmin\\micromamba\\envs\\geopython2023\\lib\\site-packages\\sklearn\\base.py:432: UserWarning: X has feature names, but RandomForestRegressor was fitted without feature names\n",
      "  warnings.warn(\n",
      "C:\\Users\\pcadmin\\micromamba\\envs\\geopython2023\\lib\\site-packages\\sklearn\\base.py:432: UserWarning: X has feature names, but RandomForestRegressor was fitted without feature names\n",
      "  warnings.warn(\n",
      "C:\\Users\\pcadmin\\micromamba\\envs\\geopython2023\\lib\\site-packages\\sklearn\\base.py:432: UserWarning: X has feature names, but RandomForestRegressor was fitted without feature names\n",
      "  warnings.warn(\n",
      "C:\\Users\\pcadmin\\micromamba\\envs\\geopython2023\\lib\\site-packages\\sklearn\\base.py:432: UserWarning: X has feature names, but RandomForestRegressor was fitted without feature names\n",
      "  warnings.warn(\n"
     ]
    }
   ],
   "source": [
    "from sklearn.model_selection import cross_val_score\n",
    "from sklearn.metrics import mean_absolute_error, r2_score, make_scorer\n",
    "\n",
    "# Combine scross_val_score and KFold to evaluate model 5-fold CV\n",
    "\n",
    "# Root mean squared error (RMSE)\n",
    "rf_rmse_scores = -cross_val_score(rf_knn, X, y, cv = kf, scoring = 'neg_root_mean_squared_error')\n",
    "mean_rf_rmse = rf_rmse_scores.mean()\n",
    "\n",
    "# Mean absolute eror (MAE)\n",
    "rf_mae_scores = -cross_val_score(rf_knn, X, y, cv = kf, scoring = 'neg_mean_absolute_error')\n",
    "mean_rf_mae = rf_mae_scores.mean()\n",
    "\n",
    "# R-sqaured (R2)\n",
    "def r2_scorer(y_true, y_pred):\n",
    "    return r2_score(y_true, y_pred)\n",
    "    \n",
    "rf_r2_scorers = cross_val_score(rf_knn, X, y, cv = kf, scoring = make_scorer(r2_scorer))\n",
    "mean_rf_r2 = rf_r2_scorers.mean()"
   ]
  },
  {
   "cell_type": "code",
   "execution_count": 7,
   "id": "e40ae9e4-5680-4515-86f8-e82448f03040",
   "metadata": {},
   "outputs": [
    {
     "data": {
      "text/html": [
       "<div>\n",
       "<style scoped>\n",
       "    .dataframe tbody tr th:only-of-type {\n",
       "        vertical-align: middle;\n",
       "    }\n",
       "\n",
       "    .dataframe tbody tr th {\n",
       "        vertical-align: top;\n",
       "    }\n",
       "\n",
       "    .dataframe thead th {\n",
       "        text-align: right;\n",
       "    }\n",
       "</style>\n",
       "<table border=\"1\" class=\"dataframe\">\n",
       "  <thead>\n",
       "    <tr style=\"text-align: right;\">\n",
       "      <th></th>\n",
       "      <th>Metrics</th>\n",
       "      <th>Score</th>\n",
       "    </tr>\n",
       "  </thead>\n",
       "  <tbody>\n",
       "    <tr>\n",
       "      <th>0</th>\n",
       "      <td>Mean R2</td>\n",
       "      <td>0.617666</td>\n",
       "    </tr>\n",
       "    <tr>\n",
       "      <th>1</th>\n",
       "      <td>Mean RMSE</td>\n",
       "      <td>7.394995</td>\n",
       "    </tr>\n",
       "    <tr>\n",
       "      <th>2</th>\n",
       "      <td>Mean MAE</td>\n",
       "      <td>4.401695</td>\n",
       "    </tr>\n",
       "  </tbody>\n",
       "</table>\n",
       "</div>"
      ],
      "text/plain": [
       "     Metrics     Score\n",
       "0    Mean R2  0.617666\n",
       "1  Mean RMSE  7.394995\n",
       "2   Mean MAE  4.401695"
      ]
     },
     "execution_count": 7,
     "metadata": {},
     "output_type": "execute_result"
    }
   ],
   "source": [
    "# Create Table for the results\n",
    "rf_performance_df = pd.DataFrame([[\"Mean R2\", mean_rf_r2], [\"Mean RMSE\", mean_rf_rmse], [\"Mean MAE\", mean_rf_mae]], columns = ['Metrics', 'Score'])\n",
    "\n",
    "rf_performance_df"
   ]
  }
 ],
 "metadata": {
  "kernelspec": {
   "display_name": "geopython2023",
   "language": "python",
   "name": "geopython2023"
  },
  "language_info": {
   "codemirror_mode": {
    "name": "ipython",
    "version": 3
   },
   "file_extension": ".py",
   "mimetype": "text/x-python",
   "name": "python",
   "nbconvert_exporter": "python",
   "pygments_lexer": "ipython3",
   "version": "3.10.14"
  }
 },
 "nbformat": 4,
 "nbformat_minor": 5
}
